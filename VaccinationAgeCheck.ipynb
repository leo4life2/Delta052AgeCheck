{
 "cells": [
  {
   "cell_type": "code",
   "execution_count": 1,
   "metadata": {
    "ExecuteTime": {
     "end_time": "2020-04-28T05:24:41.105704Z",
     "start_time": "2020-04-28T05:24:40.837034Z"
    }
   },
   "outputs": [],
   "source": [
    "import pandas as pd\n",
    "from datetime import date, datetime\n",
    "from tkinter import *\n",
    "import tkinter.filedialog\n",
    "import numpy as np"
   ]
  },
  {
   "cell_type": "markdown",
   "metadata": {},
   "source": [
    "# Get some Excel sheet"
   ]
  },
  {
   "cell_type": "code",
   "execution_count": 2,
   "metadata": {
    "ExecuteTime": {
     "end_time": "2020-04-28T05:24:41.111485Z",
     "start_time": "2020-04-28T05:24:41.108399Z"
    }
   },
   "outputs": [],
   "source": [
    "def get_sheet(filepath = None):\n",
    "    if not filepath:\n",
    "        filepath = tkinter.filedialog.askopenfilename()\n",
    "    sheet = pd.read_excel(filepath, na_filter = False)\n",
    "    sheet_np = sheet.to_numpy()\n",
    "    return filepath, sheet_np"
   ]
  },
  {
   "cell_type": "code",
   "execution_count": 3,
   "metadata": {
    "ExecuteTime": {
     "end_time": "2020-04-28T05:24:41.141417Z",
     "start_time": "2020-04-28T05:24:41.114285Z"
    }
   },
   "outputs": [],
   "source": [
    "path, bounds_sheet = get_sheet(filepath = 'bounds.xlsx')"
   ]
  },
  {
   "cell_type": "markdown",
   "metadata": {
    "ExecuteTime": {
     "end_time": "2020-04-28T05:04:05.593259Z",
     "start_time": "2020-04-28T05:04:05.590960Z"
    }
   },
   "source": [
    "# Setup vaccine shot related data structures & methods"
   ]
  },
  {
   "cell_type": "code",
   "execution_count": 4,
   "metadata": {
    "ExecuteTime": {
     "end_time": "2020-04-28T05:24:41.154432Z",
     "start_time": "2020-04-28T05:24:41.143749Z"
    }
   },
   "outputs": [],
   "source": [
    "class Shot:\n",
    "    all_shots = []\n",
    "    name_strs = []\n",
    "    def __init__(self, name, minage, maxages, specialminage, specialminage_shotnum):\n",
    "        self.name = name\n",
    "        self.minage = minage\n",
    "        self.maxages = maxages\n",
    "        self.specialminage = specialminage\n",
    "        self.specialminage_shotnum = specialminage_shotnum\n",
    "        \n",
    "    @classmethod\n",
    "    def init_all_shot_bounds(cls, bounds_sheet):\n",
    "    \n",
    "        shots = []\n",
    "        names = []\n",
    "\n",
    "        for row in bounds_sheet:\n",
    "            def list_str_to_list_int(list_str):\n",
    "                lst = list_str.replace('[', '').replace(']', '').replace(' ', '').split(',')\n",
    "                if lst == ['']:\n",
    "                    return None\n",
    "                lst = [int(s) for s in lst]\n",
    "                return lst\n",
    "            def process_specialminage(specialminage_str):\n",
    "                shotnum = int(specialminage_str[0])\n",
    "                stuffafter = specialminage_str[1:]\n",
    "                stuffafter = stuffafter.replace(':', '').replace(' ', '')\n",
    "                minage = list_str_to_list_int(stuffafter)\n",
    "                return shotnum, minage\n",
    "            '''\n",
    "            ix: content\n",
    "            0: vaccine name\n",
    "            1: min age\n",
    "            2: # shots\n",
    "            3: shot 1 max age\n",
    "            4: shot 2 max age\n",
    "            5: shot 3 max age\n",
    "            6: shot 4 max age\n",
    "            7: special shot min age\n",
    "            '''\n",
    "            name, minage_str, nshots_str, maxages_str, specialminage_str = row[0], row[1], row[2], row[3:7], row[7]\n",
    "            minage = list_str_to_list_int(minage_str)\n",
    "            nshots = int(nshots_str)\n",
    "            maxages = [list_str_to_list_int(maxage_str) for maxage_str in maxages_str]\n",
    "            specialshotnum = None\n",
    "            specialminage = None\n",
    "            \n",
    "            if specialminage_str != '':\n",
    "                specialshotnum, specialminage = process_specialminage(specialminage_str)\n",
    "                \n",
    "            shots.append(Shot(name, minage, maxages, specialminage, specialshotnum))\n",
    "            names.append(name)\n",
    "\n",
    "        cls.all_shots = shots\n",
    "        cls.name_strs = names"
   ]
  },
  {
   "cell_type": "code",
   "execution_count": 5,
   "metadata": {
    "ExecuteTime": {
     "end_time": "2020-04-28T05:24:41.159928Z",
     "start_time": "2020-04-28T05:24:41.157015Z"
    }
   },
   "outputs": [],
   "source": [
    "Shot.init_all_shot_bounds(bounds_sheet)"
   ]
  },
  {
   "cell_type": "markdown",
   "metadata": {},
   "source": [
    "# Functions for age checking"
   ]
  },
  {
   "cell_type": "code",
   "execution_count": 8,
   "metadata": {
    "ExecuteTime": {
     "end_time": "2020-04-28T05:25:19.404627Z",
     "start_time": "2020-04-28T05:25:19.379840Z"
    }
   },
   "outputs": [],
   "source": [
    "def get_parameters(shot_date_raw, bday_raw, product_type, additional_info, shot_description):\n",
    "    '''\n",
    "    Returns encoded shot_date, bday & shotnum\n",
    "    '''\n",
    "    def get_shot(product_description):\n",
    "        for shot in Shot.all_shots:\n",
    "            if shot.name in product_description:\n",
    "                return shot\n",
    "\n",
    "    def get_shot_num(product_str, additional_info):\n",
    "        if '第一针' in product_str + additional_info or '单针' in product_str + additional_info:\n",
    "            return 1\n",
    "        elif '第二针' in product_str + additional_info:\n",
    "            return 2\n",
    "        elif '第三针' in product_str + additional_info:\n",
    "            return 3\n",
    "        elif '第四针' in product_str + additional_info:\n",
    "            # Special case like reinforcement shot (aka 4th shot for PREV13)\n",
    "            return 4\n",
    "        else:\n",
    "            return 1\n",
    "\n",
    "    shot_date = datetime.strptime(shot_date_raw, '%Y-%m-%d')\n",
    "    bday = datetime.strptime(bday_raw, '%Y/%m/%d')\n",
    "    shot_num = get_shot_num(product_type, additional_info)\n",
    "    shot = get_shot(shot_description)\n",
    "\n",
    "    return shot_date, bday, shot_num, shot\n",
    "\n",
    "def check_shot_age(shot, shotnum, shot_date, bday):\n",
    "\n",
    "    def get_limit_date(bday, limit, upper = False, lower = False):\n",
    "        if lower:\n",
    "            return bday + pd.DateOffset(years=limit[0], months=limit[1], days=limit[2] - 1)\n",
    "        if upper:\n",
    "            last_nonzero_ix = np.max(np.nonzero(limit))\n",
    "            inclusive_limit = limit[:]\n",
    "            inclusive_limit[last_nonzero_ix] += 1\n",
    "\n",
    "            return bday + pd.DateOffset(years=inclusive_limit[0], months=inclusive_limit[1], days=inclusive_limit[2] - 1)\n",
    "\n",
    "    def does_satisfy_age_limit(shotdate, bday, limit, check_lowerbound = False):\n",
    "        if check_lowerbound:\n",
    "            lowerlimit_date = get_limit_date(bday, limit, lower = True)\n",
    "            return not shotdate.date() < lowerlimit_date\n",
    "        else:\n",
    "            upperlimit_date = get_limit_date(bday, limit, upper = True)\n",
    "            return not shotdate.date() > upperlimit_date\n",
    "\n",
    "    upperlimit = -1\n",
    "    lowerlimit = -1\n",
    "\n",
    "    # Shot type is never None.\n",
    "    # Kinda gambling here, betting that noone's gonna make a mistake and cause index out of bound error.\n",
    "    upperlimit = shot.maxages[shotnum-1]\n",
    "    lowerlimit = shot.minage\n",
    "\n",
    "    # i.e. Prev13 special case. Has different min age for 4th shot.\n",
    "    if shot.specialminage and shotnum == shot.specialminage_shotnum:\n",
    "        lowerlimit = shot.specialminage\n",
    "\n",
    "    # Check lower boundaries first\n",
    "    if not does_satisfy_age_limit(shot_date, bday, lowerlimit, check_lowerbound = True):\n",
    "        return '！警告：年龄过小。出生日期：' + str(bday) +'，下限：' + str(get_limit_date(bday, lowerlimit, lower = True)) + '\\n'\n",
    "\n",
    "    # Check strict & lenient upper bounds\n",
    "    if not does_satisfy_age_limit(shot_date, bday, upperlimit):\n",
    "        return '！警告：年龄过大。出生日期：' + str(bday) +'，上限：' + str(get_limit_date(bday, upperlimit, upper = True)) + '\\n'\n",
    "\n",
    "    return '通过'\n",
    "\n",
    "def check_sheet_vacc_ages(sheet):\n",
    "\n",
    "    to_display = ''\n",
    "    unknown_types = []\n",
    "    errors = ''\n",
    "\n",
    "    i = 4\n",
    "    for row in sheet[3:]: # First 3 rows excluded (备注 counted as label for pandas)\n",
    "        i += 1\n",
    "        # *Col index 1 is shot date\n",
    "        # *Col index 7 is patient bday\n",
    "        # Col index 13 is status. Exclude 取消 status data.\n",
    "        # Col index 16 is additional info (look here if shot # not indicated in col ix 17)\n",
    "        # Col index 17 is 就诊类型（疫苗 -- vaccine shot num appears here\n",
    "        # Col index 18 is 就诊原因（套餐/券 -- vaccine type appears here\n",
    "        # * = Required. Skip if missing.\n",
    "\n",
    "        status = row[13]\n",
    "        product = row[18]\n",
    "\n",
    "        if product is not np.nan and status != '取消' and row[1] != '' and row[7] != '':\n",
    "\n",
    "            shot_date_raw = row[1][:10] # Only need date; exclude hours and mins\n",
    "            bday_raw = row[7]\n",
    "            product_type = row[17]\n",
    "            additional_info = row[16]\n",
    "\n",
    "            shot_date, bday, shot_num, shot = get_parameters(shot_date_raw, bday_raw, product_type, additional_info, product)\n",
    "\n",
    "            if shot is None:\n",
    "                if product not in ['',' ', '  ', '\\n', '\\r']:\n",
    "                    unknown_types.append(product)\n",
    "                continue\n",
    "\n",
    "            name = row[3]\n",
    "\n",
    "            row_str = 'Excel第' + str(i) + '行，姓名：' + name + '，预约时间：' + shot_date_raw + '，类型：' + product + '，第' + str(shot_num) + '针 ' + '，出生日期：' + bday_raw\n",
    "\n",
    "            try:\n",
    "                check_result = check_shot_age(shot, shot_num, shot_date, bday)\n",
    "            except:\n",
    "                print(row)\n",
    "            if check_result != '通过':\n",
    "                errors += (row_str + '\\n' + check_result + '\\n')\n",
    "\n",
    "    unknown_types = set(unknown_types)\n",
    "    if len(unknown_types) > 0:\n",
    "        to_display += '发现了未知的套餐类型：' + '\\n\\n'\n",
    "        for uktype in unknown_types:\n",
    "            to_display += str(uktype) + '\\n'\n",
    "        to_display += '\\n'\n",
    "\n",
    "    if errors == '':\n",
    "        to_display += '年龄检查全部通过'\n",
    "    else:\n",
    "        to_display += '发现有超龄的人员' + '\\n\\n'\n",
    "        to_display += errors\n",
    "\n",
    "    return to_display"
   ]
  },
  {
   "cell_type": "markdown",
   "metadata": {},
   "source": [
    "# UI Related Stuff"
   ]
  },
  {
   "cell_type": "code",
   "execution_count": 10,
   "metadata": {
    "ExecuteTime": {
     "end_time": "2020-04-28T05:25:43.065130Z",
     "start_time": "2020-04-28T05:25:24.363105Z"
    }
   },
   "outputs": [],
   "source": [
    "def choose_file():\n",
    "    global path\n",
    "    global np_sheet\n",
    "    path, np_sheet = get_sheet()\n",
    "    lbl.configure(text='目前文件: '+ path)\n",
    "\n",
    "def analyze():\n",
    "    txt['state'] = 'normal'\n",
    "    txt.delete(1.0, END)\n",
    "    if path is None:\n",
    "        return\n",
    "    results = check_sheet_vacc_ages(np_sheet)\n",
    "    txt.insert(1.0, results)\n",
    "\n",
    "window = Tk()\n",
    "window.title(\"自动检查疫苗年龄要求程序:D\")\n",
    "window.geometry('800x500')\n",
    "\n",
    "path, np_sheet = None, None\n",
    "\n",
    "lbl = Label(window, text=\"请先选择一个文件\", anchor = 'center', wraplength = 300, font = ('Songti SC', 15))\n",
    "lbl.grid(column = 0, row = 0)\n",
    "\n",
    "choosebtn = Button(window, text=\"选择文件\", command = choose_file)\n",
    "choosebtn.grid(column = 0, row = 1)\n",
    "\n",
    "analyzebtn = Button(window, text='开始检查', command = analyze)\n",
    "analyzebtn.grid(column = 0, row = 2)\n",
    "\n",
    "scroll = Scrollbar(window)\n",
    "scroll.grid(column = 1, row = 3, sticky = 'ns')\n",
    "\n",
    "txt = Text(window, height=15, width=95)\n",
    "txt.grid(column = 0, row = 3)\n",
    "\n",
    "scroll.config(command=txt.yview)\n",
    "txt.config(yscrollcommand=scroll.set)\n",
    "\n",
    "txt.insert(END, '结果会在这里显示')\n",
    "txt.grid_propagate(False)\n",
    "txt.config(font = ('Songti SC', 15))\n",
    "\n",
    "window.mainloop()"
   ]
  },
  {
   "cell_type": "code",
   "execution_count": null,
   "metadata": {},
   "outputs": [],
   "source": []
  }
 ],
 "metadata": {
  "kernelspec": {
   "display_name": "Python 3",
   "language": "python",
   "name": "python3"
  },
  "toc": {
   "base_numbering": 1,
   "nav_menu": {},
   "number_sections": true,
   "sideBar": true,
   "skip_h1_title": false,
   "title_cell": "Table of Contents",
   "title_sidebar": "Contents",
   "toc_cell": false,
   "toc_position": {},
   "toc_section_display": true,
   "toc_window_display": false
  },
  "varInspector": {
   "cols": {
    "lenName": 16,
    "lenType": 16,
    "lenVar": 40
   },
   "kernels_config": {
    "python": {
     "delete_cmd_postfix": "",
     "delete_cmd_prefix": "del ",
     "library": "var_list.py",
     "varRefreshCmd": "print(var_dic_list())"
    },
    "r": {
     "delete_cmd_postfix": ") ",
     "delete_cmd_prefix": "rm(",
     "library": "var_list.r",
     "varRefreshCmd": "cat(var_dic_list()) "
    }
   },
   "position": {
    "height": "144px",
    "left": "1309px",
    "right": "20px",
    "top": "120px",
    "width": "350px"
   },
   "types_to_exclude": [
    "module",
    "function",
    "builtin_function_or_method",
    "instance",
    "_Feature"
   ],
   "window_display": false
  }
 },
 "nbformat": 4,
 "nbformat_minor": 4
}
